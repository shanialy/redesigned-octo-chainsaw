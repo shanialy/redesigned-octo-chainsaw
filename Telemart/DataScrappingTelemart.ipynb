{
  "cells": [
    {
      "cell_type": "code",
      "execution_count": null,
      "metadata": {
        "colab": {
          "base_uri": "https://localhost:8080/"
        },
        "id": "UNfwTobknx06",
        "outputId": "cb427cf2-69a2-42b9-f34d-bf5d48ff94d9"
      },
      "outputs": [
        {
          "name": "stdout",
          "output_type": "stream",
          "text": [
            "{'id': 155950, 'parent_id': 0, 'behave_id': 0, 'brand_id': 50, 'vendor_id': 1, 'sku': 'TMS-B31 24DR', 'product_type': 'simple', 'title': 'OnePlus NORD CE 5G (12GB,256GB) Dual Sim With Official Warranty', 'slug': 'oneplus-nord-ce-5g-12gb256gb-dual-sim-with-offical-warranty', 'add_by': None, 'key_features': None, 'short_description': None, 'description': '<!DOCTYPE html PUBLIC \"-//W3C//DTD HTML 4.0 Transitional//EN\" \"http://www.w3.org/TR/REC-html40/loose.dtd\">\\n<html><body><p><img style=\"width: 800px;\" data-filename=\"v27.jpg\" src=\"https://d1iv6qgcmtzm6l.cloudfront.net/product_description/product_description_1654343138.jpeg\"><br></p></body></html>\\n', 'specification': None, 'number_of_images': 0, 'main_image': 'products/ZAEQpB1SrnNDCLWL1XD9AsPB9LMRbk7mwP3pJd7t.jpg', 'shipping_cost': None, 'publish': 1, 'deleted': None, 'unit': None, 'meta_title': 'Buy OnePlus NORD CE 5G (12GB,256GB) Dual Sim With Official Warranty at Best Price In Pakistan | Telemart', 'meta_description': 'Looking to Buy OnePlus NORD CE 5G (12GB,256GB) Dual Sim With Official Warranty? We have it at best price in Pakistan. Order now and get it at your home. Fastest Delivery Service | Installment Option', 'meta_keyword': None, 'visibility': None, 'qty': 99, 'price': 75999, 'discounted_price': 71999, 'created_at': '2022-06-04T11:46:12.000000Z', 'updated_at': '2022-06-06T08:22:47.000000Z', 'status': 'Approved', 'comment': 'Product is approved by admin', 'product_request_id': 157250, 'delivery_time': '4 to 6 Days', 'cash_on_delivery': 0, 'telemart_id': None, 'is_prepaid': True, 'sole_purchase': False, 'is_insured': 0, 'cost_price': None, 'sort_by': 1, 'product_id': 155950, 'category_id': 2, 'metas': {'warranty': None, 'note': None, 'weight': None, 'dimensions': None, 'attributes': '{\"Color\":[\"Charcoal\"]}'}, 'isInStock': True, 'mainImageLink': 'https://d1iv6qgcmtzm6l.cloudfront.net/products/lg_ZAEQpB1SrnNDCLWL1XD9AsPB9LMRbk7mwP3pJd7t.jpg', 'placeholderImageLink': 'https://d1iv6qgcmtzm6l.cloudfront.net/products/xs_ZAEQpB1SrnNDCLWL1XD9AsPB9LMRbk7mwP3pJd7t.jpg', 'rating': '4', 'reviewsCount': 0, 'isWishlisted': None, 'discountPercent': 5, 'installment': '', 'meta': [{'id': 1622254, 'product_id': 155950, 'key': 'warranty', 'value': None, 'created_at': '2022-06-06T08:22:47.000000Z', 'updated_at': '2022-06-06T08:22:47.000000Z'}, {'id': 1622255, 'product_id': 155950, 'key': 'note', 'value': None, 'created_at': '2022-06-06T08:22:47.000000Z', 'updated_at': '2022-06-06T08:22:47.000000Z'}, {'id': 1622256, 'product_id': 155950, 'key': 'weight', 'value': None, 'created_at': '2022-06-06T08:22:47.000000Z', 'updated_at': '2022-06-06T08:22:47.000000Z'}, {'id': 1622257, 'product_id': 155950, 'key': 'dimensions', 'value': None, 'created_at': '2022-06-06T08:22:47.000000Z', 'updated_at': '2022-06-06T08:22:47.000000Z'}, {'id': 1622258, 'product_id': 155950, 'key': 'attributes', 'value': '{\"Color\":[\"Charcoal\"]}', 'created_at': '2022-06-06T08:22:47.000000Z', 'updated_at': '2022-06-06T08:22:47.000000Z'}], 'reviews': [], 'trend': [{'id': 9, 'title': 'Weekly Deals & Offers', 'slug': 'weekly-deal', 'active': 1, 'created_at': '2021-11-05T07:03:07.000000Z', 'updated_at': '2021-11-05T07:03:07.000000Z', 'main_banner': 'product_trends/jeQy29OZ3GyaWvEsluyjNpkMG7a3iJX3ho20q3rs.jpg', 'grid_banner_1': None, 'grid_banner_2': None, 'grid_banner_3': None, 'ticker': None, 'icon': 'product_trends/rqUCpxcBzISvsLicCJyGZshQZWvhv0Upw1VbLAUX.png', 'meta_title': 'Sale in Pakistan | Deals in Pakistan | Discounts in Pakistan | Online Shopping in Pakistan', 'meta_description': 'Deals at Telemart, Genuine products at the best price in Pakistan. Best Place for online shopping in Pakistan.', 'meta_keyword': 'deals in pakistan, sale in pakistan, weekly deals, mobile price in pakistan, price in pakistan, best sale in pakistan, best sale in pakistan.online shopping in pakistan, mobile sale in pakistan, mobile price in pakistan, 11.11 sale, 11.11 deals, clearance', 'is_prepaid': 0, 'terms_and_conditions': None, 'delivery': None, 'is_express': 0, 'express': None, 'shipping': None, 'ticker_link': 'https://telemart-bucket.s3.us-east-2.amazonaws.com/default.jpg', 'bannerLink': 'https://d1iv6qgcmtzm6l.cloudfront.net/product_trends/jeQy29OZ3GyaWvEsluyjNpkMG7a3iJX3ho20q3rs.jpg', 'grid_banner_1_link': 'https://telemart-bucket.s3.us-east-2.amazonaws.com/default.jpg', 'grid_banner_2_link': 'https://telemart-bucket.s3.us-east-2.amazonaws.com/default.jpg', 'grid_banner_3_link': 'https://telemart-bucket.s3.us-east-2.amazonaws.com/default.jpg', 'delivery_link': 'https://telemart-bucket.s3.us-east-2.amazonaws.com/default.jpg', 'shipping_link': 'https://telemart-bucket.s3.us-east-2.amazonaws.com/default.jpg', 'express_link': 'https://telemart-bucket.s3.us-east-2.amazonaws.com/default.jpg', 'pivot': {'product_id': 155950, 'product_trend_id': 9}}, {'id': 14, 'title': 'Flash Sale', 'slug': 'flash-sale', 'active': 1, 'created_at': '2021-11-05T07:08:06.000000Z', 'updated_at': '2022-01-28T09:34:22.000000Z', 'main_banner': 'product_trends/tzjgT52cbgZtgRXtqgpavKSjeleEqcsRXwilo36m.png', 'grid_banner_1': None, 'grid_banner_2': None, 'grid_banner_3': None, 'ticker': None, 'icon': None, 'meta_title': 'Sale in Pakistan | Online Shopping in Pakistan', 'meta_description': 'Flash Sale in Pakistan | Deals in Pakistan | Get Your Favourite Products at the best price in Pakistan | Online Shopping in Pakistan', 'meta_keyword': 'Sale in Pakistan | Online Shopping in Pakistan', 'is_prepaid': 0, 'terms_and_conditions': None, 'delivery': None, 'is_express': 0, 'express': None, 'shipping': None, 'ticker_link': 'https://telemart-bucket.s3.us-east-2.amazonaws.com/default.jpg', 'bannerLink': 'https://d1iv6qgcmtzm6l.cloudfront.net/product_trends/tzjgT52cbgZtgRXtqgpavKSjeleEqcsRXwilo36m.png', 'grid_banner_1_link': 'https://telemart-bucket.s3.us-east-2.amazonaws.com/default.jpg', 'grid_banner_2_link': 'https://telemart-bucket.s3.us-east-2.amazonaws.com/default.jpg', 'grid_banner_3_link': 'https://telemart-bucket.s3.us-east-2.amazonaws.com/default.jpg', 'delivery_link': 'https://telemart-bucket.s3.us-east-2.amazonaws.com/default.jpg', 'shipping_link': 'https://telemart-bucket.s3.us-east-2.amazonaws.com/default.jpg', 'express_link': 'https://telemart-bucket.s3.us-east-2.amazonaws.com/default.jpg', 'pivot': {'product_id': 155950, 'product_trend_id': 14}}, {'id': 16, 'title': 'Blessed Friday Sale', 'slug': 'blessed-friday-sale', 'active': 1, 'created_at': '2021-11-08T05:54:41.000000Z', 'updated_at': '2021-12-23T11:32:55.000000Z', 'main_banner': 'product_trends/kx599ZTbcJy3rrmfsgPSEwNaLozni41LaWRTeTqY.png', 'grid_banner_1': 'product_trends/cyQadXZYAaaxu9IBLYY84ai9g9bIIbLGlo98AFXY.png', 'grid_banner_2': 'product_trends/Xfe1tYSj2t2wchxKJkHe2IfdKL4pRlEZ1V7xqbPh.png', 'grid_banner_3': 'product_trends/cxLKxaFFcV07P9tKT8xrrPftYnse3YerHTcZgqSV.png', 'ticker': None, 'icon': 'product_trends/Jdu3BW1B8z7DpJwi40NZf8bfY0HlvBmm1HTOYzH8.png', 'meta_title': 'Biggest Sale Event in Pakistan | Blessed Friday Sale in Pakistan', 'meta_description': 'Telemart Blessed Friday Sale - Upto 80% Off. Sale is live from 20th to 28th November 2021, Get your shopping lists ready and prepare for Mega Discounts !!', 'meta_keyword': 'Blessed Friday,  Black Friday, Sale in Pakistan, Biggest Sale in Pakistan, Amazing Sale, Best price in Pakistan', 'is_prepaid': 0, 'terms_and_conditions': None, 'delivery': None, 'is_express': 0, 'express': None, 'shipping': None, 'ticker_link': 'https://telemart-bucket.s3.us-east-2.amazonaws.com/default.jpg', 'bannerLink': 'https://d1iv6qgcmtzm6l.cloudfront.net/product_trends/kx599ZTbcJy3rrmfsgPSEwNaLozni41LaWRTeTqY.png', 'grid_banner_1_link': 'https://d1iv6qgcmtzm6l.cloudfront.net/product_trends/cyQadXZYAaaxu9IBLYY84ai9g9bIIbLGlo98AFXY.png', 'grid_banner_2_link': 'https://d1iv6qgcmtzm6l.cloudfront.net/product_trends/Xfe1tYSj2t2wchxKJkHe2IfdKL4pRlEZ1V7xqbPh.png', 'grid_banner_3_link': 'https://d1iv6qgcmtzm6l.cloudfront.net/product_trends/cxLKxaFFcV07P9tKT8xrrPftYnse3YerHTcZgqSV.png', 'delivery_link': 'https://telemart-bucket.s3.us-east-2.amazonaws.com/default.jpg', 'shipping_link': 'https://telemart-bucket.s3.us-east-2.amazonaws.com/default.jpg', 'express_link': 'https://telemart-bucket.s3.us-east-2.amazonaws.com/default.jpg', 'pivot': {'product_id': 155950, 'product_trend_id': 16}}]}\n"
          ]
        }
      ],
      "source": [
        "import requests\n",
        "import json\n",
        "cookies = {\n",
        "    '_gcl_au': '1.1.1036045124.1654493432',\n",
        "    '_ga': 'GA1.2.1778089545.1654493432',\n",
        "    '_gid': 'GA1.2.1235567622.1654493432',\n",
        "    '_gat_gtag_UA_46073612_1': '1',\n",
        "    '_gat': '1',\n",
        "    'AWSALBTG': 'N3NCWoMstAOTgJdo4kz17JYODG7juPFS7RSQN81HLs7T68VrmhHkSUDy3GWH02k3VEvMi9+WpdzHwS58YpkZZ9EHWmBirAVB6LleslLPSB+G+G4xyBXZNQIwov/Nnsx61pSSEkblhC7q2ZWFVpCTETMJ9g2+GN06fbMYwIwqwBfmbwtklk8=',\n",
        "    'AWSALBTGCORS': 'N3NCWoMstAOTgJdo4kz17JYODG7juPFS7RSQN81HLs7T68VrmhHkSUDy3GWH02k3VEvMi9+WpdzHwS58YpkZZ9EHWmBirAVB6LleslLPSB+G+G4xyBXZNQIwov/Nnsx61pSSEkblhC7q2ZWFVpCTETMJ9g2+GN06fbMYwIwqwBfmbwtklk8=',\n",
        "    'XSRF-TOKEN': 'eyJpdiI6InptSi9KQkVZZ3g5Tm9vSDVLRXF1OHc9PSIsInZhbHVlIjoiVjNyQW5LSW5Rb1NYVnlCODdTVnlabUk1ZHkwWjF4YlM5TDBXVDRySHVPRjY2S28rQklzc1prWmNPR2g2Vy9nRHpBaEozV09veGJXY0hCQVJNZUpBZWJIV25kQjFiVi9SWHIxNTlRb2NTY0MxaGU1N0xiRTNqOTNqYXZ6R2FLZDciLCJtYWMiOiJjYjg4OTg4Y2I3YzcxODRjYjM3YjFmMjgzNWE3ZDJmNmVjNDU3NDI5YWFlNzIwNWFkN2NmOGMwMzg2YTUyMDBkIiwidGFnIjoiIn0%3D',\n",
        "    'telemart_session': 'eyJpdiI6IklPK2UzQThOV2hFL2ZvbDY2a0x4OHc9PSIsInZhbHVlIjoiaXk2UWFURjhtRHZrYXJmQWFLWUNod21yYy9uQ2lJa0g5NE9ucXNkbzBmU1NneGNwZ2hyWElsOWVQUW55TjlsV09jcmx3VFU1U1h2Y0Y2K0xLMVZxeno2ZjFnNHNoM1QxeGc0ajVSNmt0aXBGakVpaHo2VmdsSWtIaE51OGZxWVQiLCJtYWMiOiI5YjE1MWYxNzUyYjVjYmYwYzQ4MjE2YWIwNzQ3NGMwZWY1YjJlMDkzYTBlNTVjM2JlNzViNmE2NzNlZTMwY2ZhIiwidGFnIjoiIn0%3D',\n",
        "}\n",
        "\n",
        "headers = {\n",
        "    'authority': 'www.telemart.pk',\n",
        "    'accept': 'application/json, text/plain, */*',\n",
        "    'accept-language': 'en-US,en;q=0.9',\n",
        "    # Already added when you pass json=\n",
        "    # 'content-type': 'application/json',\n",
        "    # Requests sorts cookies= alphabetically\n",
        "    # 'cookie': '_gcl_au=1.1.1036045124.1654493432; _ga=GA1.2.1778089545.1654493432; _gid=GA1.2.1235567622.1654493432; _gat_gtag_UA_46073612_1=1; _gat=1; AWSALBTG=N3NCWoMstAOTgJdo4kz17JYODG7juPFS7RSQN81HLs7T68VrmhHkSUDy3GWH02k3VEvMi9+WpdzHwS58YpkZZ9EHWmBirAVB6LleslLPSB+G+G4xyBXZNQIwov/Nnsx61pSSEkblhC7q2ZWFVpCTETMJ9g2+GN06fbMYwIwqwBfmbwtklk8=; AWSALBTGCORS=N3NCWoMstAOTgJdo4kz17JYODG7juPFS7RSQN81HLs7T68VrmhHkSUDy3GWH02k3VEvMi9+WpdzHwS58YpkZZ9EHWmBirAVB6LleslLPSB+G+G4xyBXZNQIwov/Nnsx61pSSEkblhC7q2ZWFVpCTETMJ9g2+GN06fbMYwIwqwBfmbwtklk8=; XSRF-TOKEN=eyJpdiI6InptSi9KQkVZZ3g5Tm9vSDVLRXF1OHc9PSIsInZhbHVlIjoiVjNyQW5LSW5Rb1NYVnlCODdTVnlabUk1ZHkwWjF4YlM5TDBXVDRySHVPRjY2S28rQklzc1prWmNPR2g2Vy9nRHpBaEozV09veGJXY0hCQVJNZUpBZWJIV25kQjFiVi9SWHIxNTlRb2NTY0MxaGU1N0xiRTNqOTNqYXZ6R2FLZDciLCJtYWMiOiJjYjg4OTg4Y2I3YzcxODRjYjM3YjFmMjgzNWE3ZDJmNmVjNDU3NDI5YWFlNzIwNWFkN2NmOGMwMzg2YTUyMDBkIiwidGFnIjoiIn0%3D; telemart_session=eyJpdiI6IklPK2UzQThOV2hFL2ZvbDY2a0x4OHc9PSIsInZhbHVlIjoiaXk2UWFURjhtRHZrYXJmQWFLWUNod21yYy9uQ2lJa0g5NE9ucXNkbzBmU1NneGNwZ2hyWElsOWVQUW55TjlsV09jcmx3VFU1U1h2Y0Y2K0xLMVZxeno2ZjFnNHNoM1QxeGc0ajVSNmt0aXBGakVpaHo2VmdsSWtIaE51OGZxWVQiLCJtYWMiOiI5YjE1MWYxNzUyYjVjYmYwYzQ4MjE2YWIwNzQ3NGMwZWY1YjJlMDkzYTBlNTVjM2JlNzViNmE2NzNlZTMwY2ZhIiwidGFnIjoiIn0%3D',\n",
        "    'origin': 'https://www.telemart.pk',\n",
        "    # 'referer': 'https://www.telemart.pk/men-s-fashion/clothing/western-wear/t-shirts.html',\n",
        "    'sec-ch-ua': '\" Not A;Brand\";v=\"99\", \"Chromium\";v=\"102\", \"Google Chrome\";v=\"102\"',\n",
        "    'sec-ch-ua-mobile': '?0',\n",
        "    'sec-ch-ua-platform': '\"Windows\"',\n",
        "    'sec-fetch-dest': 'empty',\n",
        "    'sec-fetch-mode': 'cors',\n",
        "    'sec-fetch-site': 'same-origin',\n",
        "    'user-agent': 'Mozilla/5.0 (Windows NT 10.0; Win64; x64) AppleWebKit/537.36 (KHTML, like Gecko) Chrome/102.0.5005.63 Safari/537.36',\n",
        "    'x-requested-with': 'XMLHttpRequest',\n",
        "    'x-xsrf-token': 'eyJpdiI6InptSi9KQkVZZ3g5Tm9vSDVLRXF1OHc9PSIsInZhbHVlIjoiVjNyQW5LSW5Rb1NYVnlCODdTVnlabUk1ZHkwWjF4YlM5TDBXVDRySHVPRjY2S28rQklzc1prWmNPR2g2Vy9nRHpBaEozV09veGJXY0hCQVJNZUpBZWJIV25kQjFiVi9SWHIxNTlRb2NTY0MxaGU1N0xiRTNqOTNqYXZ6R2FLZDciLCJtYWMiOiJjYjg4OTg4Y2I3YzcxODRjYjM3YjFmMjgzNWE3ZDJmNmVjNDU3NDI5YWFlNzIwNWFkN2NmOGMwMzg2YTUyMDBkIiwidGFnIjoiIn0=',\n",
        "}\n",
        "\n",
        "params = {\n",
        "    'page': '1',\n",
        "}\n",
        "\n",
        "json_data = {\n",
        "    'categoryIds': [\n",
        "        2,\n",
        "    ],\n",
        "    'sortFilter': '',\n",
        "    'searchVal': '',\n",
        "    'ratings': [],\n",
        "    'brand_ids': [],\n",
        "    'trend_ids': [],\n",
        "    'vendor_ids': [],\n",
        "    'type': 'category',\n",
        "}\n",
        "\n",
        "response = requests.post('https://www.telemart.pk/api/filter', params=params, cookies=cookies, headers=headers, json=json_data)\n",
        "output = json.loads(response.text)\n",
        "print(output['data'][1])\n"
      ]
    },
    {
      "cell_type": "code",
      "execution_count": null,
      "metadata": {
        "colab": {
          "base_uri": "https://localhost:8080/"
        },
        "id": "4AVQZ61J4QMj",
        "outputId": "1fefbb28-a201-4660-cf11-35b4b03e7278"
      },
      "outputs": [],
      "source": [
        "from bs4 import BeautifulSoup\n",
        "import requests\n",
        "import json\n",
        "\n",
        "xmlDict = {}\n",
        "\n",
        "r = requests.get(\"https://www.telemart.pk/category_one_sitemap.xml\")\n",
        "xml = r.text\n",
        "\n",
        "soup = BeautifulSoup(xml)\n",
        "sitemapTags = soup.find_all(\"url\")\n",
        "\n",
        "print (\"The number of sitemaps are {0}\".format(len(sitemapTags)))\n",
        "\n",
        "for sitemap in sitemapTags:\n",
        "  url = sitemap.findNext(\"loc\").text\n",
        "  x = url.split(\".pk\")\n",
        "  site = \"https://telemart.pk/api/category\"+x[1]\n",
        "  req = requests.get(site)\n",
        "  result = json.loads(req.text)\n",
        "  categoryId = result['categories'][0]['id']\n",
        "  cookies = {\n",
        "    '_gcl_au': '1.1.1036045124.1654493432',\n",
        "    '_ga': 'GA1.2.1778089545.1654493432',\n",
        "    '_gid': 'GA1.2.1235567622.1654493432',\n",
        "    '_gat_gtag_UA_46073612_1': '1',\n",
        "    '_gat': '1',\n",
        "    'AWSALBTG': 'N3NCWoMstAOTgJdo4kz17JYODG7juPFS7RSQN81HLs7T68VrmhHkSUDy3GWH02k3VEvMi9+WpdzHwS58YpkZZ9EHWmBirAVB6LleslLPSB+G+G4xyBXZNQIwov/Nnsx61pSSEkblhC7q2ZWFVpCTETMJ9g2+GN06fbMYwIwqwBfmbwtklk8=',\n",
        "    'AWSALBTGCORS': 'N3NCWoMstAOTgJdo4kz17JYODG7juPFS7RSQN81HLs7T68VrmhHkSUDy3GWH02k3VEvMi9+WpdzHwS58YpkZZ9EHWmBirAVB6LleslLPSB+G+G4xyBXZNQIwov/Nnsx61pSSEkblhC7q2ZWFVpCTETMJ9g2+GN06fbMYwIwqwBfmbwtklk8=',\n",
        "    'XSRF-TOKEN': 'eyJpdiI6InptSi9KQkVZZ3g5Tm9vSDVLRXF1OHc9PSIsInZhbHVlIjoiVjNyQW5LSW5Rb1NYVnlCODdTVnlabUk1ZHkwWjF4YlM5TDBXVDRySHVPRjY2S28rQklzc1prWmNPR2g2Vy9nRHpBaEozV09veGJXY0hCQVJNZUpBZWJIV25kQjFiVi9SWHIxNTlRb2NTY0MxaGU1N0xiRTNqOTNqYXZ6R2FLZDciLCJtYWMiOiJjYjg4OTg4Y2I3YzcxODRjYjM3YjFmMjgzNWE3ZDJmNmVjNDU3NDI5YWFlNzIwNWFkN2NmOGMwMzg2YTUyMDBkIiwidGFnIjoiIn0%3D',\n",
        "    'telemart_session': 'eyJpdiI6IklPK2UzQThOV2hFL2ZvbDY2a0x4OHc9PSIsInZhbHVlIjoiaXk2UWFURjhtRHZrYXJmQWFLWUNod21yYy9uQ2lJa0g5NE9ucXNkbzBmU1NneGNwZ2hyWElsOWVQUW55TjlsV09jcmx3VFU1U1h2Y0Y2K0xLMVZxeno2ZjFnNHNoM1QxeGc0ajVSNmt0aXBGakVpaHo2VmdsSWtIaE51OGZxWVQiLCJtYWMiOiI5YjE1MWYxNzUyYjVjYmYwYzQ4MjE2YWIwNzQ3NGMwZWY1YjJlMDkzYTBlNTVjM2JlNzViNmE2NzNlZTMwY2ZhIiwidGFnIjoiIn0%3D',\n",
        "  }\n",
        "\n",
        "  headers = {\n",
        "    'authority': 'www.telemart.pk',\n",
        "    'accept': 'application/json, text/plain, */*',\n",
        "    'accept-language': 'en-US,en;q=0.9',\n",
        "    # Already added when you pass json=\n",
        "    # 'content-type': 'application/json',\n",
        "    # Requests sorts cookies= alphabetically\n",
        "    # 'cookie': '_gcl_au=1.1.1036045124.1654493432; _ga=GA1.2.1778089545.1654493432; _gid=GA1.2.1235567622.1654493432; _gat_gtag_UA_46073612_1=1; _gat=1; AWSALBTG=N3NCWoMstAOTgJdo4kz17JYODG7juPFS7RSQN81HLs7T68VrmhHkSUDy3GWH02k3VEvMi9+WpdzHwS58YpkZZ9EHWmBirAVB6LleslLPSB+G+G4xyBXZNQIwov/Nnsx61pSSEkblhC7q2ZWFVpCTETMJ9g2+GN06fbMYwIwqwBfmbwtklk8=; AWSALBTGCORS=N3NCWoMstAOTgJdo4kz17JYODG7juPFS7RSQN81HLs7T68VrmhHkSUDy3GWH02k3VEvMi9+WpdzHwS58YpkZZ9EHWmBirAVB6LleslLPSB+G+G4xyBXZNQIwov/Nnsx61pSSEkblhC7q2ZWFVpCTETMJ9g2+GN06fbMYwIwqwBfmbwtklk8=; XSRF-TOKEN=eyJpdiI6InptSi9KQkVZZ3g5Tm9vSDVLRXF1OHc9PSIsInZhbHVlIjoiVjNyQW5LSW5Rb1NYVnlCODdTVnlabUk1ZHkwWjF4YlM5TDBXVDRySHVPRjY2S28rQklzc1prWmNPR2g2Vy9nRHpBaEozV09veGJXY0hCQVJNZUpBZWJIV25kQjFiVi9SWHIxNTlRb2NTY0MxaGU1N0xiRTNqOTNqYXZ6R2FLZDciLCJtYWMiOiJjYjg4OTg4Y2I3YzcxODRjYjM3YjFmMjgzNWE3ZDJmNmVjNDU3NDI5YWFlNzIwNWFkN2NmOGMwMzg2YTUyMDBkIiwidGFnIjoiIn0%3D; telemart_session=eyJpdiI6IklPK2UzQThOV2hFL2ZvbDY2a0x4OHc9PSIsInZhbHVlIjoiaXk2UWFURjhtRHZrYXJmQWFLWUNod21yYy9uQ2lJa0g5NE9ucXNkbzBmU1NneGNwZ2hyWElsOWVQUW55TjlsV09jcmx3VFU1U1h2Y0Y2K0xLMVZxeno2ZjFnNHNoM1QxeGc0ajVSNmt0aXBGakVpaHo2VmdsSWtIaE51OGZxWVQiLCJtYWMiOiI5YjE1MWYxNzUyYjVjYmYwYzQ4MjE2YWIwNzQ3NGMwZWY1YjJlMDkzYTBlNTVjM2JlNzViNmE2NzNlZTMwY2ZhIiwidGFnIjoiIn0%3D',\n",
        "    'origin': 'https://www.telemart.pk',\n",
        "    # 'referer': 'https://www.telemart.pk/men-s-fashion/clothing/western-wear/t-shirts.html',\n",
        "    'sec-ch-ua': '\" Not A;Brand\";v=\"99\", \"Chromium\";v=\"102\", \"Google Chrome\";v=\"102\"',\n",
        "    'sec-ch-ua-mobile': '?0',\n",
        "    'sec-ch-ua-platform': '\"Windows\"',\n",
        "    'sec-fetch-dest': 'empty',\n",
        "    'sec-fetch-mode': 'cors',\n",
        "    'sec-fetch-site': 'same-origin',\n",
        "    'user-agent': 'Mozilla/5.0 (Windows NT 10.0; Win64; x64) AppleWebKit/537.36 (KHTML, like Gecko) Chrome/102.0.5005.63 Safari/537.36',\n",
        "    'x-requested-with': 'XMLHttpRequest',\n",
        "    'x-xsrf-token': 'eyJpdiI6InptSi9KQkVZZ3g5Tm9vSDVLRXF1OHc9PSIsInZhbHVlIjoiVjNyQW5LSW5Rb1NYVnlCODdTVnlabUk1ZHkwWjF4YlM5TDBXVDRySHVPRjY2S28rQklzc1prWmNPR2g2Vy9nRHpBaEozV09veGJXY0hCQVJNZUpBZWJIV25kQjFiVi9SWHIxNTlRb2NTY0MxaGU1N0xiRTNqOTNqYXZ6R2FLZDciLCJtYWMiOiJjYjg4OTg4Y2I3YzcxODRjYjM3YjFmMjgzNWE3ZDJmNmVjNDU3NDI5YWFlNzIwNWFkN2NmOGMwMzg2YTUyMDBkIiwidGFnIjoiIn0=',\n",
        "    }\n",
        "\n",
        "  params = {\n",
        "      'page': '1',\n",
        "    }\n",
        "\n",
        "  json_data = {\n",
        "    'categoryIds': [\n",
        "        categoryId\n",
        "    ],\n",
        "    'sortFilter': '',\n",
        "    'searchVal': '',\n",
        "    'ratings': [],\n",
        "    'brand_ids': [],\n",
        "    'trend_ids': [],\n",
        "    'vendor_ids': [],\n",
        "    'type': 'category',\n",
        "    }\n",
        "  response = requests.post('https://www.telemart.pk/api/filter', params=params, cookies=cookies, headers=headers, json=json_data)\n",
        "  output = json.loads(response.text)\n",
        "  lastPage = output['last_page']\n",
        "  print(output)\n"
      ]
    },
    {
      "cell_type": "code",
      "execution_count": null,
      "metadata": {
        "id": "oambn6IrGY9E"
      },
      "outputs": [],
      "source": [
        ""
      ]
    },
    {
      "cell_type": "code",
      "execution_count": null,
      "metadata": {
        "id": "bM10ct1SNorI"
      },
      "outputs": [],
      "source": [
        ""
      ]
    }
  ],
  "metadata": {
    "colab": {
      "collapsed_sections": [],
      "name": "DataScrappingTelemart.ipynb",
      "provenance": []
    },
    "kernelspec": {
      "display_name": "Python 3",
      "name": "python3"
    },
    "language_info": {
      "name": "python"
    }
  },
  "nbformat": 4,
  "nbformat_minor": 0
}